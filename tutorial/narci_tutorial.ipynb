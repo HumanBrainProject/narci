{
 "cells": [
  {
   "cell_type": "markdown",
   "metadata": {},
   "source": [
    "## NARCI Tutorial\n",
    "\n",
    "```\n",
    "  (c) 2017\n",
    "    University of Amsterdam\n",
    "    Forschungszentrum Juelich GmbH\n",
    "    The German Neuroinformatics Node\n",
    "    Le Centre national de la recherche scientifique (CRNS)\n",
    "```\n",
    "\n",
    "\n",
    "This is a basic tutorial on using `narci` via Python library [rdflib](https://rdflib.readthedocs.io/en/stable/). We will cover basic elements and possible usage."
   ]
  },
  {
   "cell_type": "markdown",
   "metadata": {},
   "source": [
    "### Loading the ontology schema as RDF graph\n",
    "\n",
    "NARCI is designed as an [OWL ontology](https://www.w3.org/OWL/) and expressed as a semantic graph via [RDF](https://www.w3.org/RDF/). Note that his loads a schema"
   ]
  },
  {
   "cell_type": "code",
   "execution_count": null,
   "metadata": {
    "scrolled": true
   },
   "outputs": [],
   "source": [
    "import rdflib\n",
    "# Use narci persistent URL in production work.\n",
    "# narci_url = 'http://www.purl.org/narci/schema'\n",
    "narci_url = '../ontology/narci'\n",
    "narci = rdflib.Graph()\n",
    "narci.parse(narci_url, format=\"n3\") # Read a turtle file"
   ]
  },
  {
   "cell_type": "markdown",
   "metadata": {},
   "source": [
    "### How to use the schema: Programmaticaly within Python\n",
    "\n",
    "NARCI schema, see `SVG` file under the repository. NARCI \n",
    "has 4 classes \n",
    "\n",
    "* `narci:Metadata`  \n",
    "* `narci:Experiment`\n",
    "* `narci:Scanner`\n",
    "* `narci:Cell`\n",
    "\n",
    "Let's have a dummy two sessions with the following basic entries:\n",
    "\n",
    "1. Session 1\n",
    "   ```\n",
    "   Experiment\n",
    "   imaging_date \"2017-10-21\"\n",
    "   imaging_session_id 1\n",
    "   imaging_depth 0.1\n",
    "   neuronal_calcium_sensors \"CMV-GCaMP6s\"\n",
    "   ca_image_cortical_z_stacks 1200\n",
    "   \n",
    "   Cell\n",
    "   ca_target_cell_size 20x20\n",
    "   \n",
    "   Scanner\n",
    "   laser_wavelength 750\n",
    "   \n",
    "   ```\n",
    "2.  Session 2\n",
    "   ```\n",
    "   Experiment\n",
    "   imaging_date \"2017-10-21\"\n",
    "   imaging_session_id 2\n",
    "   imaging_depth 0.1\n",
    "   neuronal_calcium_sensors \"CMV-GCaMP6s\"\n",
    "   ca_image_cortical_z_stacks 1000\n",
    "   \n",
    "   Cell\n",
    "   ca_target_cell_size 25x25\n",
    "   \n",
    "   Scanner\n",
    "   laser_wavelength 750\n",
    "   \n",
    "   ```\n",
    "\n",
    "Note that of course there are many more metadata entries, but this is just a dummy example."
   ]
  },
  {
   "cell_type": "code",
   "execution_count": null,
   "metadata": {
    "collapsed": true
   },
   "outputs": [],
   "source": [
    "from rdflib import Namespace\n",
    "# use narci persistent URL in production work.\n",
    "# narci_url = 'http://www.purl.org/narci/schema'\n",
    "narci_url = './ontology/narci'\n",
    "# This will add narci namespace, a schema via @prefix\n",
    "narci = Namespace(narci_url) "
   ]
  },
  {
   "cell_type": "code",
   "execution_count": null,
   "metadata": {
    "collapsed": true,
    "scrolled": false
   },
   "outputs": [],
   "source": [
    "from rdflib import Graph, Literal, URIRef, BNode\n",
    "from rdflib.namespace import RDF\n",
    "\n",
    "calcium_metadata  = Graph()\n",
    "# Session 1 Metadata\n",
    "calcium_metadata.add((URIRef(\"#session1\"), RDF.type, narci.Metadata))\n",
    "exp               = BNode()\n",
    "calcium_metadata.add((URIRef(\"#session1\"), narci.experiment, exp))\n",
    "calcium_metadata.add((exp, narci.imaging_date, Literal(\"2017-10-21\")))\n",
    "calcium_metadata.add((exp, narci.imaging_session_id, Literal(1)))\n",
    "calcium_metadata.add((exp, narci.imaging_depth, Literal(0.1)))\n",
    "calcium_metadata.add((exp, narci.neuronal_calcium_sensors, Literal(\"CMV-GCaMP6s\")))\n",
    "calcium_metadata.add((exp, narci.ca_image_cortical_z_stacks, Literal(1200)))\n",
    "cell = BNode()\n",
    "calcium_metadata.add((URIRef(\"#session1\"), narci.cell, cell))\n",
    "calcium_metadata.add((cell, narci.ca_target_cell_size, Literal(\"20x20\")))\n",
    "scanner = BNode()\n",
    "calcium_metadata.add((URIRef(\"#session1\"), narci.scanner, scanner))\n",
    "calcium_metadata.add((scanner, narci.laser_wavelength, Literal(750)))\n",
    "\n",
    "# Session 2 Metadata\n",
    "calcium_metadata.add((URIRef(\"#session2\"), RDF.type, narci.Metadata))\n",
    "exp               = BNode()\n",
    "calcium_metadata.add((URIRef(\"#session2\"), narci.experiment, exp))\n",
    "calcium_metadata.add((exp, narci.imaging_date, Literal(\"2017-10-21\")))\n",
    "calcium_metadata.add((exp, narci.imaging_session_id, Literal(2)))\n",
    "calcium_metadata.add((exp, narci.imaging_depth, Literal(0.1)))\n",
    "calcium_metadata.add((exp, narci.neuronal_calcium_sensors, Literal(\"CMV-GCaMP6s\")))\n",
    "calcium_metadata.add((exp, narci.ca_image_cortical_z_stacks, Literal(1200)))\n",
    "cell = BNode()\n",
    "calcium_metadata.add((URIRef(\"#session2\"), narci.cell, cell))\n",
    "calcium_metadata.add((cell, narci.ca_target_cell_size, Literal(\"25x25\")))\n",
    "scanner = BNode()\n",
    "calcium_metadata.add((URIRef(\"#session2\"), narci.scanner, scanner))\n",
    "calcium_metadata.add((scanner, narci.laser_wavelength, Literal(750)))"
   ]
  },
  {
   "cell_type": "code",
   "execution_count": null,
   "metadata": {
    "scrolled": true
   },
   "outputs": [],
   "source": [
    "# Now show the metadata\n",
    "print calcium_metadata.serialize(format='turtle')"
   ]
  }
 ],
 "metadata": {
  "kernelspec": {
   "display_name": "Python 2",
   "language": "python",
   "name": "python2"
  },
  "language_info": {
   "codemirror_mode": {
    "name": "ipython",
    "version": 2
   },
   "file_extension": ".py",
   "mimetype": "text/x-python",
   "name": "python",
   "nbconvert_exporter": "python",
   "pygments_lexer": "ipython2",
   "version": "2.7.13"
  }
 },
 "nbformat": 4,
 "nbformat_minor": 2
}
